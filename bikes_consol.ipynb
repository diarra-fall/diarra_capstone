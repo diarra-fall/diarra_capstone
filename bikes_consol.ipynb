{
 "cells": [
  {
   "cell_type": "code",
   "execution_count": 1,
   "id": "ff3ddaab",
   "metadata": {},
   "outputs": [],
   "source": [
    "import pandas as pd"
   ]
  },
  {
   "cell_type": "code",
   "execution_count": 2,
   "id": "34f9131c",
   "metadata": {},
   "outputs": [],
   "source": [
    "bikes_sub = pd.read_csv('data/Chicago/cleaned/bikes/bikes_count_m1.csv')"
   ]
  },
  {
   "cell_type": "code",
   "execution_count": 3,
   "id": "592e6da3",
   "metadata": {},
   "outputs": [],
   "source": [
    "bikes_sub['from_zip'] = bikes_sub.from_zip.astype(str)"
   ]
  },
  {
   "cell_type": "code",
   "execution_count": 4,
   "id": "a5ebf948",
   "metadata": {},
   "outputs": [],
   "source": [
    "bikes_sub['to_zip'] = bikes_sub.to_zip.astype(str)"
   ]
  },
  {
   "cell_type": "code",
   "execution_count": 5,
   "id": "48794f23",
   "metadata": {},
   "outputs": [],
   "source": [
    "bikes_sub1 = pd.read_csv('data/Chicago/cleaned/bikes/bikes_count_m2.csv')"
   ]
  },
  {
   "cell_type": "code",
   "execution_count": 6,
   "id": "460386e8",
   "metadata": {},
   "outputs": [],
   "source": [
    "bikes_sub1['from_zip'] = bikes_sub1.from_zip.astype(str)"
   ]
  },
  {
   "cell_type": "code",
   "execution_count": 7,
   "id": "660f8200",
   "metadata": {},
   "outputs": [],
   "source": [
    "bikes_sub1['to_zip'] = bikes_sub1.to_zip.astype(str)"
   ]
  },
  {
   "cell_type": "code",
   "execution_count": 14,
   "id": "b4842839",
   "metadata": {},
   "outputs": [
    {
     "data": {
      "text/html": [
       "<div>\n",
       "<style scoped>\n",
       "    .dataframe tbody tr th:only-of-type {\n",
       "        vertical-align: middle;\n",
       "    }\n",
       "\n",
       "    .dataframe tbody tr th {\n",
       "        vertical-align: top;\n",
       "    }\n",
       "\n",
       "    .dataframe thead th {\n",
       "        text-align: right;\n",
       "    }\n",
       "</style>\n",
       "<table border=\"1\" class=\"dataframe\">\n",
       "  <thead>\n",
       "    <tr style=\"text-align: right;\">\n",
       "      <th></th>\n",
       "      <th>from_zip</th>\n",
       "      <th>to_zip</th>\n",
       "      <th>count</th>\n",
       "    </tr>\n",
       "  </thead>\n",
       "  <tbody>\n",
       "    <tr>\n",
       "      <th>0</th>\n",
       "      <td>60601</td>\n",
       "      <td>60602</td>\n",
       "      <td>76</td>\n",
       "    </tr>\n",
       "    <tr>\n",
       "      <th>1</th>\n",
       "      <td>60601</td>\n",
       "      <td>60603</td>\n",
       "      <td>121</td>\n",
       "    </tr>\n",
       "    <tr>\n",
       "      <th>2</th>\n",
       "      <td>60601</td>\n",
       "      <td>60604</td>\n",
       "      <td>189</td>\n",
       "    </tr>\n",
       "    <tr>\n",
       "      <th>3</th>\n",
       "      <td>60601</td>\n",
       "      <td>60605</td>\n",
       "      <td>486</td>\n",
       "    </tr>\n",
       "    <tr>\n",
       "      <th>4</th>\n",
       "      <td>60601</td>\n",
       "      <td>60606</td>\n",
       "      <td>262</td>\n",
       "    </tr>\n",
       "    <tr>\n",
       "      <th>...</th>\n",
       "      <td>...</td>\n",
       "      <td>...</td>\n",
       "      <td>...</td>\n",
       "    </tr>\n",
       "    <tr>\n",
       "      <th>1183</th>\n",
       "      <td>60707</td>\n",
       "      <td>60647</td>\n",
       "      <td>4</td>\n",
       "    </tr>\n",
       "    <tr>\n",
       "      <th>1184</th>\n",
       "      <td>60707</td>\n",
       "      <td>60651</td>\n",
       "      <td>3</td>\n",
       "    </tr>\n",
       "    <tr>\n",
       "      <th>1185</th>\n",
       "      <td>60707</td>\n",
       "      <td>60657</td>\n",
       "      <td>1</td>\n",
       "    </tr>\n",
       "    <tr>\n",
       "      <th>1186</th>\n",
       "      <td>60827</td>\n",
       "      <td>60628</td>\n",
       "      <td>2</td>\n",
       "    </tr>\n",
       "    <tr>\n",
       "      <th>1187</th>\n",
       "      <td>60827</td>\n",
       "      <td>60643</td>\n",
       "      <td>2</td>\n",
       "    </tr>\n",
       "  </tbody>\n",
       "</table>\n",
       "<p>1188 rows × 3 columns</p>\n",
       "</div>"
      ],
      "text/plain": [
       "     from_zip to_zip  count\n",
       "0       60601  60602     76\n",
       "1       60601  60603    121\n",
       "2       60601  60604    189\n",
       "3       60601  60605    486\n",
       "4       60601  60606    262\n",
       "...       ...    ...    ...\n",
       "1183    60707  60647      4\n",
       "1184    60707  60651      3\n",
       "1185    60707  60657      1\n",
       "1186    60827  60628      2\n",
       "1187    60827  60643      2\n",
       "\n",
       "[1188 rows x 3 columns]"
      ]
     },
     "execution_count": 14,
     "metadata": {},
     "output_type": "execute_result"
    }
   ],
   "source": [
    "bikes_consol = pd.concat([bikes_sub, bikes_sub1]).groupby(['from_zip', 'to_zip']).sum().reset_index()\n",
    "bikes_consol"
   ]
  },
  {
   "cell_type": "code",
   "execution_count": 25,
   "id": "27646d76",
   "metadata": {},
   "outputs": [
    {
     "data": {
      "text/html": [
       "<div>\n",
       "<style scoped>\n",
       "    .dataframe tbody tr th:only-of-type {\n",
       "        vertical-align: middle;\n",
       "    }\n",
       "\n",
       "    .dataframe tbody tr th {\n",
       "        vertical-align: top;\n",
       "    }\n",
       "\n",
       "    .dataframe thead th {\n",
       "        text-align: right;\n",
       "    }\n",
       "</style>\n",
       "<table border=\"1\" class=\"dataframe\">\n",
       "  <thead>\n",
       "    <tr style=\"text-align: right;\">\n",
       "      <th></th>\n",
       "      <th>from_zip</th>\n",
       "      <th>to_zip</th>\n",
       "      <th>count</th>\n",
       "    </tr>\n",
       "  </thead>\n",
       "  <tbody>\n",
       "    <tr>\n",
       "      <th>0</th>\n",
       "      <td>60601</td>\n",
       "      <td>60602</td>\n",
       "      <td>2026</td>\n",
       "    </tr>\n",
       "    <tr>\n",
       "      <th>1</th>\n",
       "      <td>60601</td>\n",
       "      <td>60603</td>\n",
       "      <td>5338</td>\n",
       "    </tr>\n",
       "    <tr>\n",
       "      <th>2</th>\n",
       "      <td>60601</td>\n",
       "      <td>60604</td>\n",
       "      <td>2956</td>\n",
       "    </tr>\n",
       "    <tr>\n",
       "      <th>3</th>\n",
       "      <td>60601</td>\n",
       "      <td>60605</td>\n",
       "      <td>13777</td>\n",
       "    </tr>\n",
       "    <tr>\n",
       "      <th>4</th>\n",
       "      <td>60601</td>\n",
       "      <td>60606</td>\n",
       "      <td>5202</td>\n",
       "    </tr>\n",
       "    <tr>\n",
       "      <th>...</th>\n",
       "      <td>...</td>\n",
       "      <td>...</td>\n",
       "      <td>...</td>\n",
       "    </tr>\n",
       "    <tr>\n",
       "      <th>2094</th>\n",
       "      <td>60827</td>\n",
       "      <td>60615</td>\n",
       "      <td>1</td>\n",
       "    </tr>\n",
       "    <tr>\n",
       "      <th>2095</th>\n",
       "      <td>60827</td>\n",
       "      <td>60619</td>\n",
       "      <td>1</td>\n",
       "    </tr>\n",
       "    <tr>\n",
       "      <th>2096</th>\n",
       "      <td>60827</td>\n",
       "      <td>60628</td>\n",
       "      <td>26</td>\n",
       "    </tr>\n",
       "    <tr>\n",
       "      <th>2097</th>\n",
       "      <td>60827</td>\n",
       "      <td>60633</td>\n",
       "      <td>2</td>\n",
       "    </tr>\n",
       "    <tr>\n",
       "      <th>2098</th>\n",
       "      <td>60827</td>\n",
       "      <td>60643</td>\n",
       "      <td>6</td>\n",
       "    </tr>\n",
       "  </tbody>\n",
       "</table>\n",
       "<p>2099 rows × 3 columns</p>\n",
       "</div>"
      ],
      "text/plain": [
       "     from_zip to_zip  count\n",
       "0       60601  60602   2026\n",
       "1       60601  60603   5338\n",
       "2       60601  60604   2956\n",
       "3       60601  60605  13777\n",
       "4       60601  60606   5202\n",
       "...       ...    ...    ...\n",
       "2094    60827  60615      1\n",
       "2095    60827  60619      1\n",
       "2096    60827  60628     26\n",
       "2097    60827  60633      2\n",
       "2098    60827  60643      6\n",
       "\n",
       "[2099 rows x 3 columns]"
      ]
     },
     "execution_count": 25,
     "metadata": {},
     "output_type": "execute_result"
    }
   ],
   "source": [
    "bikes_sub1 = pd.read_csv('data/Chicago/cleaned/bikes/bikes_count_m12.csv')\n",
    "bikes_sub1['from_zip'] = bikes_sub1.from_zip.astype(str)\n",
    "bikes_sub1['to_zip'] = bikes_sub1.to_zip.astype(str)\n",
    "bikes_consol = pd.concat([bikes_consol, bikes_sub1]).groupby(['from_zip', 'to_zip']).sum().reset_index()\n",
    "bikes_consol"
   ]
  },
  {
   "cell_type": "code",
   "execution_count": 26,
   "id": "fc24b3a0",
   "metadata": {},
   "outputs": [],
   "source": [
    "bikes_consol.to_csv('data/Chicago/cleaned/bikes/bikes_2022.csv', index=False)"
   ]
  },
  {
   "cell_type": "code",
   "execution_count": null,
   "id": "9525c898",
   "metadata": {},
   "outputs": [],
   "source": []
  }
 ],
 "metadata": {
  "kernelspec": {
   "display_name": "Python 3 (ipykernel)",
   "language": "python",
   "name": "python3"
  },
  "language_info": {
   "codemirror_mode": {
    "name": "ipython",
    "version": 3
   },
   "file_extension": ".py",
   "mimetype": "text/x-python",
   "name": "python",
   "nbconvert_exporter": "python",
   "pygments_lexer": "ipython3",
   "version": "3.8.5"
  }
 },
 "nbformat": 4,
 "nbformat_minor": 5
}
